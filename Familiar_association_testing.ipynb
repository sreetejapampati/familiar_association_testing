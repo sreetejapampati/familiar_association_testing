{
 "cells": [
  {
   "cell_type": "code",
   "execution_count": 1,
   "id": "8030d71d",
   "metadata": {},
   "outputs": [],
   "source": [
    "import pandas as pd\n",
    "import numpy as np"
   ]
  },
  {
   "cell_type": "code",
   "execution_count": 2,
   "id": "4cc14625",
   "metadata": {},
   "outputs": [],
   "source": [
    "lifespans = pd.read_csv('familiar_lifespan.csv')\n",
    "iron = pd.read_csv('familiar_iron.csv')"
   ]
  },
  {
   "cell_type": "code",
   "execution_count": 3,
   "id": "699dc1aa",
   "metadata": {},
   "outputs": [
    {
     "name": "stdout",
     "output_type": "stream",
     "text": [
      "     pack   lifespan\n",
      "0    vein  76.255090\n",
      "1  artery  76.404504\n",
      "2  artery  75.952442\n",
      "3  artery  76.923082\n",
      "4  artery  73.771212\n"
     ]
    }
   ],
   "source": [
    "print(lifespans.head())"
   ]
  },
  {
   "cell_type": "markdown",
   "id": "80cdbb9b",
   "metadata": {},
   "source": [
    "Extract the life spans of subscribers to the 'vein' pack"
   ]
  },
  {
   "cell_type": "code",
   "execution_count": 4,
   "id": "6e34ace9",
   "metadata": {},
   "outputs": [],
   "source": [
    "vein_pack_lifespans = lifespans.lifespan[lifespans.pack == \"vein\"]"
   ]
  },
  {
   "cell_type": "code",
   "execution_count": 5,
   "id": "c424788a",
   "metadata": {},
   "outputs": [
    {
     "name": "stdout",
     "output_type": "stream",
     "text": [
      "76.16901335636044\n"
     ]
    }
   ],
   "source": [
    "average_lifespan_vein = np.mean(vein_pack_lifespans)\n",
    "print(average_lifespan_vein)"
   ]
  },
  {
   "cell_type": "markdown",
   "id": "65c734fb",
   "metadata": {},
   "source": [
    "Is the average lifespan of a Vein Pack subscriber is significantly different from the average life expectancy of 73 years?\n",
    "\n",
    "Testing these hypotheses:\n",
    "\n",
    "Null: The average lifespan of a Vein Pack subscriber is 73 years.\n",
    "\n",
    "Alternative: The average lifespan of a Vein Pack subscriber is NOT 73 years."
   ]
  },
  {
   "cell_type": "code",
   "execution_count": 6,
   "id": "62656df1",
   "metadata": {},
   "outputs": [
    {
     "name": "stdout",
     "output_type": "stream",
     "text": [
      "5.972157921433211e-07\n"
     ]
    }
   ],
   "source": [
    "##single sample of lifespans and we want to compare the mean of this sample to a hypothetical population value of 73 years\n",
    "from scipy.stats import ttest_1samp\n",
    "tstat, pval = ttest_1samp(vein_pack_lifespans, 73)\n",
    "print(pval)"
   ]
  },
  {
   "cell_type": "code",
   "execution_count": 7,
   "id": "f36c81e4",
   "metadata": {},
   "outputs": [
    {
     "name": "stdout",
     "output_type": "stream",
     "text": [
      "Since the p value is significantly smaller than the significance threshold, we can conclude that the average lifespan of vein pack subscribers is significantly different from the average lifespan of 73 years.\n"
     ]
    }
   ],
   "source": [
    "if pval < 0.05:\n",
    "    print(\"Since the p value is significantly smaller than the significance threshold, we can conclude that the average lifespan of vein pack subscribers is significantly different from the average lifespan of 73 years.\")\n",
    "else:\n",
    "    print(\"The average age of vein pack subscribers is not significantly different from the average lifespan of 73 years.\")"
   ]
  },
  {
   "cell_type": "code",
   "execution_count": 8,
   "id": "3e51efcc",
   "metadata": {},
   "outputs": [],
   "source": [
    "artery_pack_lifespans = lifespans.lifespan[lifespans.pack == \"artery\"]"
   ]
  },
  {
   "cell_type": "code",
   "execution_count": 9,
   "id": "eac77312",
   "metadata": {},
   "outputs": [
    {
     "name": "stdout",
     "output_type": "stream",
     "text": [
      "74.87366223517039\n"
     ]
    }
   ],
   "source": [
    "average_lifespan_artery = np.mean(artery_pack_lifespans)\n",
    "print(average_lifespan_artery)"
   ]
  },
  {
   "cell_type": "markdown",
   "id": "3d493f9b",
   "metadata": {},
   "source": [
    "Is the average lifespan of a vein pack subscriber significantly different from the average lifespan of an artery pack subscriber?\n",
    "\n",
    "Testing these hypotheses:\n",
    "    \n",
    "Null: The average lifespan of a Vein Pack subscriber is equal to the average lifespan of an Artery Pack subscriber.\n",
    "    \n",
    "Alternative: The average lifespan of a Vein Pack subscriber is NOT equal to the average lifespan of an Artery Pack subscriber."
   ]
  },
  {
   "cell_type": "code",
   "execution_count": 10,
   "id": "5c35c81f",
   "metadata": {},
   "outputs": [],
   "source": [
    "from scipy.stats import ttest_ind"
   ]
  },
  {
   "cell_type": "code",
   "execution_count": 12,
   "id": "dfeb7abe",
   "metadata": {},
   "outputs": [
    {
     "name": "stdout",
     "output_type": "stream",
     "text": [
      "0.05588883079070819\n"
     ]
    }
   ],
   "source": [
    "tstat, pval = ttest_ind(vein_pack_lifespans, artery_pack_lifespans)\n",
    "print(pval)\n"
   ]
  },
  {
   "cell_type": "code",
   "execution_count": 13,
   "id": "17fcf445",
   "metadata": {},
   "outputs": [
    {
     "name": "stdout",
     "output_type": "stream",
     "text": [
      "The average age of vein pack subscribers is not significantly different from the average lifespan of artery pack subscribers.\n"
     ]
    }
   ],
   "source": [
    "if pval < 0.05:\n",
    "    print(\"Since the p value is significantly smaller than the significance threshold, we can conclude that the average lifespan of vein pack subscribers is significantly different from the average lifespan of a vein pack subscriber.\")\n",
    "else:\n",
    "    print(\"The average age of vein pack subscribers is not significantly different from the average lifespan of artery pack subscribers.\")"
   ]
  },
  {
   "cell_type": "code",
   "execution_count": 14,
   "id": "00665dda",
   "metadata": {},
   "outputs": [
    {
     "name": "stdout",
     "output_type": "stream",
     "text": [
      "     pack    iron\n",
      "0    vein     low\n",
      "1  artery  normal\n",
      "2  artery  normal\n",
      "3  artery  normal\n",
      "4  artery    high\n"
     ]
    }
   ],
   "source": [
    "print(iron.head())"
   ]
  },
  {
   "cell_type": "code",
   "execution_count": 15,
   "id": "562a338f",
   "metadata": {},
   "outputs": [
    {
     "name": "stdout",
     "output_type": "stream",
     "text": [
      "iron    high  low  normal\n",
      "pack                     \n",
      "artery    87   29      29\n",
      "vein      20  140      40\n"
     ]
    }
   ],
   "source": [
    "Xtab = pd.crosstab(iron.pack, iron.iron)\n",
    "print(Xtab)"
   ]
  },
  {
   "cell_type": "code",
   "execution_count": 16,
   "id": "575f532b",
   "metadata": {},
   "outputs": [
    {
     "name": "stdout",
     "output_type": "stream",
     "text": [
      "9.359749337433008e-25\n"
     ]
    }
   ],
   "source": [
    "from scipy.stats import chi2_contingency\n",
    "chi2, pval, dof, exp = chi2_contingency(Xtab)\n",
    "print(pval)"
   ]
  },
  {
   "cell_type": "code",
   "execution_count": 17,
   "id": "68ce6c06",
   "metadata": {},
   "outputs": [
    {
     "name": "stdout",
     "output_type": "stream",
     "text": [
      "Since the p value is significantly smaller than the significance threshold, we can conclude that there is a significant association between which pack (Vein vs. Artery) someone subscribes to and their iron level\n"
     ]
    }
   ],
   "source": [
    "if pval < 0.05:\n",
    "    print(\"Since the p value is significantly smaller than the significance threshold, we can conclude that there is a significant association between which pack (Vein vs. Artery) someone subscribes to and their iron level\")\n",
    "else:\n",
    "    print(\"No significant association between which pack someone subscribes to and their iron level .\")"
   ]
  },
  {
   "cell_type": "code",
   "execution_count": null,
   "id": "99effc58",
   "metadata": {},
   "outputs": [],
   "source": []
  }
 ],
 "metadata": {
  "kernelspec": {
   "display_name": "Python 3 (ipykernel)",
   "language": "python",
   "name": "python3"
  },
  "language_info": {
   "codemirror_mode": {
    "name": "ipython",
    "version": 3
   },
   "file_extension": ".py",
   "mimetype": "text/x-python",
   "name": "python",
   "nbconvert_exporter": "python",
   "pygments_lexer": "ipython3",
   "version": "3.9.7"
  }
 },
 "nbformat": 4,
 "nbformat_minor": 5
}
